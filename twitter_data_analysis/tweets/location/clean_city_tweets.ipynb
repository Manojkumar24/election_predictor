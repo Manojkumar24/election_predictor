{
 "cells": [
  {
   "cell_type": "code",
   "execution_count": 18,
   "metadata": {},
   "outputs": [],
   "source": [
    "import pandas as pd\n",
    "import os\n",
    "import re"
   ]
  },
  {
   "cell_type": "code",
   "execution_count": 19,
   "metadata": {},
   "outputs": [],
   "source": [
    "def cleanText(string):\n",
    "    string = string.lower()\n",
    "    re_list = [\n",
    "        'link <http[\\S\\s]+>',\n",
    "        'http(\\S)+',# re4 in question\n",
    "        'www(\\S)+', #urls with www\n",
    "        '[\\d]+', #numbers \t\n",
    "        'rt '\n",
    "    ]\n",
    "    for reg in re_list:\n",
    "        string = re.sub(reg, \" \", string)\n",
    "    return string\n"
   ]
  },
  {
   "cell_type": "code",
   "execution_count": 20,
   "metadata": {},
   "outputs": [],
   "source": [
    "def clean_file(fname):\n",
    "    df = pd.read_csv(fname)\n",
    "    df['english'] = list(map(cleanText, df['english']))\n",
    "    df.to_csv(fname,index=False)"
   ]
  },
  {
   "cell_type": "code",
   "execution_count": 21,
   "metadata": {},
   "outputs": [
    {
     "data": {
      "text/plain": [
       "['pune_english.csv',\n",
       " 'chennai_english.csv',\n",
       " 'delhi_english.csv',\n",
       " 'mumbai_english.csv',\n",
       " 'hyderabad_english.csv']"
      ]
     },
     "execution_count": 21,
     "metadata": {},
     "output_type": "execute_result"
    }
   ],
   "source": [
    "files = os.listdir()\n",
    "files = [file for file in files if file[-4:] == '.csv']\n",
    "files"
   ]
  },
  {
   "cell_type": "code",
   "execution_count": 22,
   "metadata": {},
   "outputs": [
    {
     "name": "stdout",
     "output_type": "stream",
     "text": [
      "pune_english.csv\n",
      "chennai_english.csv\n",
      "delhi_english.csv\n",
      "mumbai_english.csv\n",
      "hyderabad_english.csv\n"
     ]
    }
   ],
   "source": [
    "for file in files:\n",
    "    print(file)\n",
    "    clean_file(file)"
   ]
  },
  {
   "cell_type": "code",
   "execution_count": null,
   "metadata": {},
   "outputs": [],
   "source": []
  }
 ],
 "metadata": {
  "kernelspec": {
   "display_name": "Python 3",
   "language": "python",
   "name": "python3"
  },
  "language_info": {
   "codemirror_mode": {
    "name": "ipython",
    "version": 3
   },
   "file_extension": ".py",
   "mimetype": "text/x-python",
   "name": "python",
   "nbconvert_exporter": "python",
   "pygments_lexer": "ipython3",
   "version": "3.6.5"
  }
 },
 "nbformat": 4,
 "nbformat_minor": 2
}
